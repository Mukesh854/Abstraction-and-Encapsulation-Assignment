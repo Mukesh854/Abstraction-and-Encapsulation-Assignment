{
 "cells": [
  {
   "cell_type": "markdown",
   "id": "a63a7205-75fb-4bec-bccb-7c3af0b94590",
   "metadata": {},
   "source": [
    "# Abstraction and Encapsulation Assignment\n"
   ]
  },
  {
   "cell_type": "markdown",
   "id": "d7e74403-3928-447f-a3b0-747141571f67",
   "metadata": {},
   "source": [
    "Q1. What is Abstraction in OOps? Explain with an example."
   ]
  },
  {
   "cell_type": "markdown",
   "id": "8009c533-c1b1-4bf7-8673-acedccda4e82",
   "metadata": {},
   "source": [
    "\n",
    "Abstraction in OOP means hiding complex implementation details and exposing only essential functionalities. It simplifies interactions by providing clear interfaces."
   ]
  },
  {
   "cell_type": "code",
   "execution_count": 1,
   "id": "9ad001cb-6b56-4208-ad4b-9af8eb358400",
   "metadata": {},
   "outputs": [],
   "source": [
    "class Circle:\n",
    "    def __init__(self, radius):\n",
    "        self.radius = radius\n",
    "    \n",
    "    def area(self):\n",
    "        return 3.14 * self.radius * self.radius\n",
    "    \n",
    "    def perimeter(self):\n",
    "        return 2 * 3.14 * self.radius\n"
   ]
  },
  {
   "cell_type": "markdown",
   "id": "1130ed9a-aa46-4467-9abc-9eaa6bcd0d51",
   "metadata": {},
   "source": [
    "Q2. Differentiate between Abstraction and Encapsulation. Explain with an example?"
   ]
  },
  {
   "cell_type": "markdown",
   "id": "3486d98f-839d-4463-b108-a46ed8e0cab3",
   "metadata": {},
   "source": [
    "1) Abstraction: Focuses on showing only essential features and hiding unnecessary details. It's about \"what\" an object does.\n",
    "\n",
    "Abstraction:\n",
    "\n",
    "We provide essential functionalities to interact with the car (start_engine(), stop_engine(), drive()).\n",
    "Users don't need to know the internal workings of these methods; they just use them to start the engine, stop it, and drive the car.\n",
    "\n",
    "2) Encapsulation: Involves bundling data and methods into a single unit (class) and restricting direct access to the internal state. It's about data protection and ensuring consistency.\n",
    "\n",
    "Encapsulation:\n",
    "\n",
    "The make, model, year, and __engine_running attributes are encapsulated within the Car class.\n",
    "They can't be directly accessed from outside the class, ensuring that the internal state of the car is controlled and consistent.\n",
    "\n",
    "\n",
    "\n",
    "\n"
   ]
  },
  {
   "cell_type": "markdown",
   "id": "0f217346-b462-4797-9925-e6121ce08ec8",
   "metadata": {},
   "source": [
    "Q3. What is abc module in python? Why is it used?"
   ]
  },
  {
   "cell_type": "markdown",
   "id": "34ea78a7-a3e5-4049-91d0-73b1c9bcebb0",
   "metadata": {},
   "source": [
    " the abc module in Python is used to define Abstract Base Classes (ABCs). These classes serve as templates for other classes, specifying methods that subclasses must implement. ABCs enable polymorphic behavior, enforce API contracts, and provide documentation. They ensure consistency and reliability in code by defining a common interface for related classes to inherit from."
   ]
  },
  {
   "cell_type": "markdown",
   "id": "4277e6b3-5f6a-43de-97ee-7e45c776a7a1",
   "metadata": {},
   "source": [
    "Q4. How can we achieve data abstraction?"
   ]
  },
  {
   "cell_type": "markdown",
   "id": "3c53f086-a33c-4d60-abfe-6c306e6ebff7",
   "metadata": {},
   "source": [
    ". Defining classes to represent data and operations.\n",
    "\n",
    ". Hiding implementation details within classes.\n",
    "\n",
    ". Providing clear interfaces for interacting with data.\n",
    "\n",
    ". Using access modifiers to control data visibility.\n",
    "\n",
    ". Encapsulating complex operations within methods."
   ]
  },
  {
   "cell_type": "markdown",
   "id": "1ce64f47-82d3-4e77-9ec5-724f016ffbb6",
   "metadata": {},
   "source": [
    "Q5. Can we create an instance of an abstract class? Explain your answer?"
   ]
  },
  {
   "cell_type": "markdown",
   "id": "d48546de-c7ea-4265-874c-6b5116fa10ff",
   "metadata": {},
   "source": [
    "\n",
    "No, we cannot create an instance of an abstract class directly in Python. Abstract classes are incomplete templates meant to be subclassed, and they contain abstract methods that must be implemented by concrete subclasses. We can only create instances of concrete subclasses that inherit from the abstract class.\n",
    "\n",
    "\n",
    "\n",
    "\n"
   ]
  },
  {
   "cell_type": "code",
   "execution_count": null,
   "id": "909a0e8e-0d86-47a0-87e6-305ae17b913d",
   "metadata": {},
   "outputs": [],
   "source": []
  },
  {
   "cell_type": "code",
   "execution_count": null,
   "id": "a31f9e0d-9deb-4d40-b9f1-4bb8d67df757",
   "metadata": {},
   "outputs": [],
   "source": []
  }
 ],
 "metadata": {
  "kernelspec": {
   "display_name": "Python 3 (ipykernel)",
   "language": "python",
   "name": "python3"
  },
  "language_info": {
   "codemirror_mode": {
    "name": "ipython",
    "version": 3
   },
   "file_extension": ".py",
   "mimetype": "text/x-python",
   "name": "python",
   "nbconvert_exporter": "python",
   "pygments_lexer": "ipython3",
   "version": "3.10.8"
  }
 },
 "nbformat": 4,
 "nbformat_minor": 5
}
